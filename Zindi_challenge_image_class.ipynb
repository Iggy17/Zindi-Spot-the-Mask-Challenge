{
 "cells": [
  {
   "cell_type": "code",
   "execution_count": 1,
   "metadata": {},
   "outputs": [],
   "source": [
    "#Importing libraries \n",
    "import cv2\n",
    "import os\n",
    "import glob\n",
    "import matplotlib.pyplot as plt\n",
    "import pandas as pd\n",
    "import numpy as np\n",
    "import tensorflow\n",
    "from tensorflow.keras.models import Sequential\n",
    "from tensorflow.keras.layers import Dense, Dropout, Conv2D, MaxPooling2D, Flatten\n",
    "from tensorflow.keras.optimizers import RMSprop, Adam\n",
    "from tensorflow.keras.regularizers import l2"
   ]
  },
  {
   "cell_type": "code",
   "execution_count": 2,
   "metadata": {},
   "outputs": [],
   "source": [
    "#loading the images \n",
    "\n",
    "img_dir = '/home/iggy/Downloads/images' #directory of the images \n",
    "data_path = os.path.join(img_dir,'*g')\n",
    "\n",
    "images = glob.glob(data_path)\n"
   ]
  },
  {
   "cell_type": "code",
   "execution_count": null,
   "metadata": {},
   "outputs": [],
   "source": []
  },
  {
   "cell_type": "code",
   "execution_count": 3,
   "metadata": {},
   "outputs": [],
   "source": [
    "train = pd.read_csv(\"/home/iggy/Downloads/train_labels.csv\")\n",
    "\n",
    "train_images_list = train['image'].tolist()\n",
    "\n",
    "y = train['target'].tolist()\n",
    "\n",
    "\n",
    "\n",
    "images_list = os.listdir(img_dir)\n",
    "\n",
    "test_images_list = [fn for fn in images_list if fn not in train_images_list]\n",
    "\n",
    "train_data = []"
   ]
  },
  {
   "cell_type": "code",
   "execution_count": 4,
   "metadata": {},
   "outputs": [],
   "source": [
    "img_size = 48 #gonna resize images to 48 pixels "
   ]
  },
  {
   "cell_type": "code",
   "execution_count": 5,
   "metadata": {},
   "outputs": [],
   "source": [
    "def get_train_data():\n",
    "    X_train = []\n",
    "    y_train = []\n",
    "    print(len(images))\n",
    "    print(len(train_images_list))\n",
    "    print(images[0].split('/')[5])\n",
    "    \n",
    "    test_data = []\n",
    "    \n",
    "    for i in images:\n",
    "        \n",
    "        if i.split('/')[5] not in train_images_list:\n",
    "            test_data.append(i)\n",
    "        else:\n",
    "            X_train.append(i)\n",
    "            \n",
    "    \n",
    "        \n",
    "    return X_train, y_train, test_data\n",
    "        "
   ]
  },
  {
   "cell_type": "code",
   "execution_count": 6,
   "metadata": {},
   "outputs": [
    {
     "name": "stdout",
     "output_type": "stream",
     "text": [
      "1816\n",
      "1308\n",
      "scinyegbsxvszgingldfiggswajhji.jpg\n"
     ]
    }
   ],
   "source": [
    "X_train, y_train, test_data= get_train_data()"
   ]
  },
  {
   "cell_type": "code",
   "execution_count": 7,
   "metadata": {},
   "outputs": [
    {
     "data": {
      "text/plain": [
       "['/home/iggy/Downloads/images/scinyegbsxvszgingldfiggswajhji.jpg',\n",
       " '/home/iggy/Downloads/images/dzjseqqhiwqnxopkdrxmkgxhqipjbl.jpg',\n",
       " '/home/iggy/Downloads/images/nneqklgzypswfswxvxajouvovutrkw.png',\n",
       " '/home/iggy/Downloads/images/azazbwzigdzxxsvmcizyuqgivdyhzn.jpg',\n",
       " '/home/iggy/Downloads/images/kbfprdfmuicvutpvutvwhctequtcvv.jpg',\n",
       " '/home/iggy/Downloads/images/zgvgjdxlrhfgoepmagvuivhnmfuuoq.jpg',\n",
       " '/home/iggy/Downloads/images/uqersobkusawmkpnxmeppqpydmswpc.jpg',\n",
       " '/home/iggy/Downloads/images/knpmsdjjupafsfktgfkvighqgvqwbj.jpg',\n",
       " '/home/iggy/Downloads/images/exfkjarfpkqwyzpfkolhmyijlgluit.jpg',\n",
       " '/home/iggy/Downloads/images/yuibmfqdhsawksrekgfnpynmttuirs.jpg',\n",
       " '/home/iggy/Downloads/images/ymzylicduucrjolqeskcegusxlvyoe.jpg',\n",
       " '/home/iggy/Downloads/images/ayoltpbaswdlkawidwfyxuzuepxbdv.png',\n",
       " '/home/iggy/Downloads/images/zkqrcnoehtkudvxaaljjvudmwulurn.png',\n",
       " '/home/iggy/Downloads/images/prkrkappwvvumujnlzbuicfjskwaau.jpg',\n",
       " '/home/iggy/Downloads/images/yazsmoufnxenxxgcspfqqsapuzrowe.jpg']"
      ]
     },
     "execution_count": 7,
     "metadata": {},
     "output_type": "execute_result"
    }
   ],
   "source": [
    "X_train[:15]"
   ]
  },
  {
   "cell_type": "code",
   "execution_count": 8,
   "metadata": {},
   "outputs": [
    {
     "data": {
      "text/plain": [
       "1307"
      ]
     },
     "execution_count": 8,
     "metadata": {},
     "output_type": "execute_result"
    }
   ],
   "source": [
    "len(X_train)"
   ]
  },
  {
   "cell_type": "code",
   "execution_count": 9,
   "metadata": {},
   "outputs": [
    {
     "data": {
      "text/plain": [
       "'/home/iggy/Downloads/images/cetwookalphtxhtbwgcpzfjpmasfic.png'"
      ]
     },
     "execution_count": 9,
     "metadata": {},
     "output_type": "execute_result"
    }
   ],
   "source": [
    "test_data[4]"
   ]
  },
  {
   "cell_type": "code",
   "execution_count": 10,
   "metadata": {},
   "outputs": [],
   "source": [
    "#validation and training set: \n",
    "\n",
    "val = train.sample(n=262, random_state=1234) #random sampled approx 20% of the data to be validation set: Use frac = 20% to use a %\n"
   ]
  },
  {
   "cell_type": "code",
   "execution_count": 11,
   "metadata": {},
   "outputs": [],
   "source": [
    "#getting validation labels and image set\n",
    "val_labels = []\n",
    "val_img = []\n",
    "\n",
    "for index, row in val.iterrows():\n",
    "    xval, yval = row['image'], row['target']\n",
    "    val_img.append(xval)\n",
    "    val_labels.append(yval)"
   ]
  },
  {
   "cell_type": "code",
   "execution_count": 12,
   "metadata": {},
   "outputs": [],
   "source": [
    "#importing valition images\n",
    "\n",
    "def validation_images():\n",
    "    val_images = []\n",
    "    for i in val_img:\n",
    "        valimg = cv2.resize(cv2.imread('/home/iggy/Downloads/images/{}'.format(i)), (img_size, img_size))\n",
    "        val_images.append(np.array([valimg], dtype='float32'))\n",
    "        \n",
    "    return val_images\n"
   ]
  },
  {
   "cell_type": "code",
   "execution_count": 13,
   "metadata": {},
   "outputs": [],
   "source": [
    "val_images = validation_images()"
   ]
  },
  {
   "cell_type": "code",
   "execution_count": 14,
   "metadata": {},
   "outputs": [
    {
     "data": {
      "text/plain": [
       "(262, 262)"
      ]
     },
     "execution_count": 14,
     "metadata": {},
     "output_type": "execute_result"
    }
   ],
   "source": [
    "len(val_images), len(val_labels)"
   ]
  },
  {
   "cell_type": "code",
   "execution_count": 15,
   "metadata": {},
   "outputs": [],
   "source": [
    "#random sampling training set - here I butchered the sampling my g, can perhaps make it better by sampling on values that where not part of the validation set\n",
    "\n",
    "x_val = train.sample(n=1046, random_state=1234)"
   ]
  },
  {
   "cell_type": "code",
   "execution_count": 16,
   "metadata": {},
   "outputs": [],
   "source": [
    "X_train2 = []\n",
    "y_train2 = []\n",
    "\n",
    "#iterating over a pandas dataframe:\n",
    "\n",
    "for index, row in x_val.iterrows():\n",
    "    Xtrain2, ytrain2 = row['image'], row['target']\n",
    "    X_train2.append(Xtrain2)\n",
    "    y_train2.append(ytrain2)"
   ]
  },
  {
   "cell_type": "code",
   "execution_count": 17,
   "metadata": {},
   "outputs": [],
   "source": [
    "def training_data2():\n",
    "    training_data = []\n",
    "    for i in X_train2:\n",
    "        x_data = cv2.resize(cv2.imread('/home/iggy/Downloads/images/{}'.format(i)), (img_size, img_size))\n",
    "        training_data.append(np.array([x_data], dtype='float32'))\n",
    "    \n",
    "    return training_data"
   ]
  },
  {
   "cell_type": "code",
   "execution_count": 18,
   "metadata": {},
   "outputs": [],
   "source": [
    "data = training_data2()"
   ]
  },
  {
   "cell_type": "code",
   "execution_count": 19,
   "metadata": {},
   "outputs": [
    {
     "data": {
      "text/plain": [
       "1046"
      ]
     },
     "execution_count": 19,
     "metadata": {},
     "output_type": "execute_result"
    }
   ],
   "source": [
    "len(data)"
   ]
  },
  {
   "cell_type": "code",
   "execution_count": 20,
   "metadata": {},
   "outputs": [],
   "source": [
    "#convert data to numpy arrays \n",
    "\n",
    "train_images = np.asarray(data) \n",
    "train_labels = np.asarray(y_train2) \n",
    "val_images = np.asarray(val_images) \n",
    "val_labels = np.asarray(val_labels) "
   ]
  },
  {
   "cell_type": "code",
   "execution_count": 21,
   "metadata": {},
   "outputs": [
    {
     "data": {
      "text/plain": [
       "(1046, 1, 48, 48, 3)"
      ]
     },
     "execution_count": 21,
     "metadata": {},
     "output_type": "execute_result"
    }
   ],
   "source": [
    "train_images.shape"
   ]
  },
  {
   "cell_type": "code",
   "execution_count": 22,
   "metadata": {},
   "outputs": [],
   "source": [
    "train_images = train_images.reshape(1046,48,48,3)"
   ]
  },
  {
   "cell_type": "code",
   "execution_count": 24,
   "metadata": {},
   "outputs": [],
   "source": [
    "val_images = val_images.reshape(262,48, 48, 3)"
   ]
  },
  {
   "cell_type": "code",
   "execution_count": 26,
   "metadata": {},
   "outputs": [],
   "source": [
    "#getting test images \n",
    "test_images = []\n",
    "for i in test_data:\n",
    "    img = cv2.resize(cv2.imread(i), (img_size, img_size))\n",
    "    test_images.append(np.array([img], dtype='float32'))"
   ]
  },
  {
   "cell_type": "code",
   "execution_count": 27,
   "metadata": {},
   "outputs": [
    {
     "data": {
      "text/plain": [
       "509"
      ]
     },
     "execution_count": 27,
     "metadata": {},
     "output_type": "execute_result"
    }
   ],
   "source": [
    "len(test_images) #I think there is a mistake in the labelling of the underlying data, but I will investigate later "
   ]
  },
  {
   "cell_type": "code",
   "execution_count": 28,
   "metadata": {},
   "outputs": [],
   "source": [
    "test_images = np.asarray(test_images).reshape(509,48,48,3)"
   ]
  },
  {
   "cell_type": "code",
   "execution_count": 29,
   "metadata": {},
   "outputs": [],
   "source": [
    "input_shape = (48,48,3)"
   ]
  },
  {
   "cell_type": "code",
   "execution_count": 31,
   "metadata": {},
   "outputs": [],
   "source": [
    "train_images /= 255"
   ]
  },
  {
   "cell_type": "code",
   "execution_count": 32,
   "metadata": {},
   "outputs": [
    {
     "data": {
      "text/plain": [
       "array([[[[138., 126., 114.],\n",
       "         [144., 132., 120.],\n",
       "         [150., 138., 126.],\n",
       "         ...,\n",
       "         [152., 140., 128.],\n",
       "         [146., 134., 122.],\n",
       "         [139., 127., 115.]],\n",
       "\n",
       "        [[142., 130., 118.],\n",
       "         [148., 136., 124.],\n",
       "         [155., 143., 131.],\n",
       "         ...,\n",
       "         [156., 144., 132.],\n",
       "         [150., 138., 126.],\n",
       "         [144., 132., 120.]],\n",
       "\n",
       "        [[146., 134., 122.],\n",
       "         [152., 140., 128.],\n",
       "         [158., 146., 134.],\n",
       "         ...,\n",
       "         [159., 147., 135.],\n",
       "         [154., 142., 130.],\n",
       "         [148., 136., 124.]],\n",
       "\n",
       "        ...,\n",
       "\n",
       "        [[208., 208., 201.],\n",
       "         [ 39.,  50.,  63.],\n",
       "         [ 37.,  40.,  45.],\n",
       "         ...,\n",
       "         [237., 233., 222.],\n",
       "         [236., 232., 221.],\n",
       "         [234., 230., 219.]],\n",
       "\n",
       "        [[193., 195., 190.],\n",
       "         [ 43.,  56.,  71.],\n",
       "         [ 35.,  38.,  43.],\n",
       "         ...,\n",
       "         [239., 235., 224.],\n",
       "         [236., 232., 221.],\n",
       "         [236., 232., 221.]],\n",
       "\n",
       "        [[170., 173., 170.],\n",
       "         [ 40.,  55.,  72.],\n",
       "         [ 27.,  30.,  35.],\n",
       "         ...,\n",
       "         [239., 235., 224.],\n",
       "         [236., 232., 221.],\n",
       "         [236., 232., 221.]]]], dtype=float32)"
      ]
     },
     "execution_count": 32,
     "metadata": {},
     "output_type": "execute_result"
    }
   ],
   "source": [
    "#compare this to the one below:\n",
    "data[0] #shows the effect of image normalization. To facilitate normalization it was crucial to have images of float32"
   ]
  },
  {
   "cell_type": "code",
   "execution_count": 33,
   "metadata": {},
   "outputs": [
    {
     "data": {
      "text/plain": [
       "array([[[0.5411765 , 0.49411765, 0.44705883],\n",
       "        [0.5647059 , 0.5176471 , 0.47058824],\n",
       "        [0.5882353 , 0.5411765 , 0.49411765],\n",
       "        ...,\n",
       "        [0.59607846, 0.54901963, 0.5019608 ],\n",
       "        [0.57254905, 0.5254902 , 0.47843137],\n",
       "        [0.54509807, 0.49803922, 0.4509804 ]],\n",
       "\n",
       "       [[0.5568628 , 0.50980395, 0.4627451 ],\n",
       "        [0.5803922 , 0.53333336, 0.4862745 ],\n",
       "        [0.60784316, 0.56078434, 0.5137255 ],\n",
       "        ...,\n",
       "        [0.6117647 , 0.5647059 , 0.5176471 ],\n",
       "        [0.5882353 , 0.5411765 , 0.49411765],\n",
       "        [0.5647059 , 0.5176471 , 0.47058824]],\n",
       "\n",
       "       [[0.57254905, 0.5254902 , 0.47843137],\n",
       "        [0.59607846, 0.54901963, 0.5019608 ],\n",
       "        [0.61960787, 0.57254905, 0.5254902 ],\n",
       "        ...,\n",
       "        [0.62352943, 0.5764706 , 0.5294118 ],\n",
       "        [0.6039216 , 0.5568628 , 0.50980395],\n",
       "        [0.5803922 , 0.53333336, 0.4862745 ]],\n",
       "\n",
       "       ...,\n",
       "\n",
       "       [[0.8156863 , 0.8156863 , 0.7882353 ],\n",
       "        [0.15294118, 0.19607843, 0.24705882],\n",
       "        [0.14509805, 0.15686275, 0.1764706 ],\n",
       "        ...,\n",
       "        [0.92941177, 0.9137255 , 0.87058824],\n",
       "        [0.9254902 , 0.9098039 , 0.8666667 ],\n",
       "        [0.91764706, 0.9019608 , 0.85882354]],\n",
       "\n",
       "       [[0.75686276, 0.7647059 , 0.74509805],\n",
       "        [0.16862746, 0.21960784, 0.2784314 ],\n",
       "        [0.13725491, 0.14901961, 0.16862746],\n",
       "        ...,\n",
       "        [0.9372549 , 0.92156863, 0.8784314 ],\n",
       "        [0.9254902 , 0.9098039 , 0.8666667 ],\n",
       "        [0.9254902 , 0.9098039 , 0.8666667 ]],\n",
       "\n",
       "       [[0.6666667 , 0.6784314 , 0.6666667 ],\n",
       "        [0.15686275, 0.21568628, 0.28235295],\n",
       "        [0.10588235, 0.11764706, 0.13725491],\n",
       "        ...,\n",
       "        [0.9372549 , 0.92156863, 0.8784314 ],\n",
       "        [0.9254902 , 0.9098039 , 0.8666667 ],\n",
       "        [0.9254902 , 0.9098039 , 0.8666667 ]]], dtype=float32)"
      ]
     },
     "execution_count": 33,
     "metadata": {},
     "output_type": "execute_result"
    }
   ],
   "source": [
    "train_images[0]"
   ]
  },
  {
   "cell_type": "code",
   "execution_count": 34,
   "metadata": {},
   "outputs": [],
   "source": [
    "test_images /= 255"
   ]
  },
  {
   "cell_type": "code",
   "execution_count": 35,
   "metadata": {},
   "outputs": [],
   "source": [
    "val_images /= 255"
   ]
  },
  {
   "cell_type": "code",
   "execution_count": 36,
   "metadata": {},
   "outputs": [],
   "source": [
    "#One-hot-encoding the values \n",
    "\n",
    "train_labels = tensorflow.keras.utils.to_categorical(train_labels, 2) #convert the label data into one-hot categorical format\n",
    "val_labels = tensorflow.keras.utils.to_categorical(val_labels, 2)"
   ]
  },
  {
   "cell_type": "code",
   "execution_count": null,
   "metadata": {},
   "outputs": [],
   "source": []
  },
  {
   "cell_type": "code",
   "execution_count": 37,
   "metadata": {},
   "outputs": [
    {
     "data": {
      "application/javascript": [
       "/* Put everything inside the global mpl namespace */\n",
       "window.mpl = {};\n",
       "\n",
       "\n",
       "mpl.get_websocket_type = function() {\n",
       "    if (typeof(WebSocket) !== 'undefined') {\n",
       "        return WebSocket;\n",
       "    } else if (typeof(MozWebSocket) !== 'undefined') {\n",
       "        return MozWebSocket;\n",
       "    } else {\n",
       "        alert('Your browser does not have WebSocket support. ' +\n",
       "              'Please try Chrome, Safari or Firefox ≥ 6. ' +\n",
       "              'Firefox 4 and 5 are also supported but you ' +\n",
       "              'have to enable WebSockets in about:config.');\n",
       "    };\n",
       "}\n",
       "\n",
       "mpl.figure = function(figure_id, websocket, ondownload, parent_element) {\n",
       "    this.id = figure_id;\n",
       "\n",
       "    this.ws = websocket;\n",
       "\n",
       "    this.supports_binary = (this.ws.binaryType != undefined);\n",
       "\n",
       "    if (!this.supports_binary) {\n",
       "        var warnings = document.getElementById(\"mpl-warnings\");\n",
       "        if (warnings) {\n",
       "            warnings.style.display = 'block';\n",
       "            warnings.textContent = (\n",
       "                \"This browser does not support binary websocket messages. \" +\n",
       "                    \"Performance may be slow.\");\n",
       "        }\n",
       "    }\n",
       "\n",
       "    this.imageObj = new Image();\n",
       "\n",
       "    this.context = undefined;\n",
       "    this.message = undefined;\n",
       "    this.canvas = undefined;\n",
       "    this.rubberband_canvas = undefined;\n",
       "    this.rubberband_context = undefined;\n",
       "    this.format_dropdown = undefined;\n",
       "\n",
       "    this.image_mode = 'full';\n",
       "\n",
       "    this.root = $('<div/>');\n",
       "    this._root_extra_style(this.root)\n",
       "    this.root.attr('style', 'display: inline-block');\n",
       "\n",
       "    $(parent_element).append(this.root);\n",
       "\n",
       "    this._init_header(this);\n",
       "    this._init_canvas(this);\n",
       "    this._init_toolbar(this);\n",
       "\n",
       "    var fig = this;\n",
       "\n",
       "    this.waiting = false;\n",
       "\n",
       "    this.ws.onopen =  function () {\n",
       "            fig.send_message(\"supports_binary\", {value: fig.supports_binary});\n",
       "            fig.send_message(\"send_image_mode\", {});\n",
       "            if (mpl.ratio != 1) {\n",
       "                fig.send_message(\"set_dpi_ratio\", {'dpi_ratio': mpl.ratio});\n",
       "            }\n",
       "            fig.send_message(\"refresh\", {});\n",
       "        }\n",
       "\n",
       "    this.imageObj.onload = function() {\n",
       "            if (fig.image_mode == 'full') {\n",
       "                // Full images could contain transparency (where diff images\n",
       "                // almost always do), so we need to clear the canvas so that\n",
       "                // there is no ghosting.\n",
       "                fig.context.clearRect(0, 0, fig.canvas.width, fig.canvas.height);\n",
       "            }\n",
       "            fig.context.drawImage(fig.imageObj, 0, 0);\n",
       "        };\n",
       "\n",
       "    this.imageObj.onunload = function() {\n",
       "        fig.ws.close();\n",
       "    }\n",
       "\n",
       "    this.ws.onmessage = this._make_on_message_function(this);\n",
       "\n",
       "    this.ondownload = ondownload;\n",
       "}\n",
       "\n",
       "mpl.figure.prototype._init_header = function() {\n",
       "    var titlebar = $(\n",
       "        '<div class=\"ui-dialog-titlebar ui-widget-header ui-corner-all ' +\n",
       "        'ui-helper-clearfix\"/>');\n",
       "    var titletext = $(\n",
       "        '<div class=\"ui-dialog-title\" style=\"width: 100%; ' +\n",
       "        'text-align: center; padding: 3px;\"/>');\n",
       "    titlebar.append(titletext)\n",
       "    this.root.append(titlebar);\n",
       "    this.header = titletext[0];\n",
       "}\n",
       "\n",
       "\n",
       "\n",
       "mpl.figure.prototype._canvas_extra_style = function(canvas_div) {\n",
       "\n",
       "}\n",
       "\n",
       "\n",
       "mpl.figure.prototype._root_extra_style = function(canvas_div) {\n",
       "\n",
       "}\n",
       "\n",
       "mpl.figure.prototype._init_canvas = function() {\n",
       "    var fig = this;\n",
       "\n",
       "    var canvas_div = $('<div/>');\n",
       "\n",
       "    canvas_div.attr('style', 'position: relative; clear: both; outline: 0');\n",
       "\n",
       "    function canvas_keyboard_event(event) {\n",
       "        return fig.key_event(event, event['data']);\n",
       "    }\n",
       "\n",
       "    canvas_div.keydown('key_press', canvas_keyboard_event);\n",
       "    canvas_div.keyup('key_release', canvas_keyboard_event);\n",
       "    this.canvas_div = canvas_div\n",
       "    this._canvas_extra_style(canvas_div)\n",
       "    this.root.append(canvas_div);\n",
       "\n",
       "    var canvas = $('<canvas/>');\n",
       "    canvas.addClass('mpl-canvas');\n",
       "    canvas.attr('style', \"left: 0; top: 0; z-index: 0; outline: 0\")\n",
       "\n",
       "    this.canvas = canvas[0];\n",
       "    this.context = canvas[0].getContext(\"2d\");\n",
       "\n",
       "    var backingStore = this.context.backingStorePixelRatio ||\n",
       "\tthis.context.webkitBackingStorePixelRatio ||\n",
       "\tthis.context.mozBackingStorePixelRatio ||\n",
       "\tthis.context.msBackingStorePixelRatio ||\n",
       "\tthis.context.oBackingStorePixelRatio ||\n",
       "\tthis.context.backingStorePixelRatio || 1;\n",
       "\n",
       "    mpl.ratio = (window.devicePixelRatio || 1) / backingStore;\n",
       "\n",
       "    var rubberband = $('<canvas/>');\n",
       "    rubberband.attr('style', \"position: absolute; left: 0; top: 0; z-index: 1;\")\n",
       "\n",
       "    var pass_mouse_events = true;\n",
       "\n",
       "    canvas_div.resizable({\n",
       "        start: function(event, ui) {\n",
       "            pass_mouse_events = false;\n",
       "        },\n",
       "        resize: function(event, ui) {\n",
       "            fig.request_resize(ui.size.width, ui.size.height);\n",
       "        },\n",
       "        stop: function(event, ui) {\n",
       "            pass_mouse_events = true;\n",
       "            fig.request_resize(ui.size.width, ui.size.height);\n",
       "        },\n",
       "    });\n",
       "\n",
       "    function mouse_event_fn(event) {\n",
       "        if (pass_mouse_events)\n",
       "            return fig.mouse_event(event, event['data']);\n",
       "    }\n",
       "\n",
       "    rubberband.mousedown('button_press', mouse_event_fn);\n",
       "    rubberband.mouseup('button_release', mouse_event_fn);\n",
       "    // Throttle sequential mouse events to 1 every 20ms.\n",
       "    rubberband.mousemove('motion_notify', mouse_event_fn);\n",
       "\n",
       "    rubberband.mouseenter('figure_enter', mouse_event_fn);\n",
       "    rubberband.mouseleave('figure_leave', mouse_event_fn);\n",
       "\n",
       "    canvas_div.on(\"wheel\", function (event) {\n",
       "        event = event.originalEvent;\n",
       "        event['data'] = 'scroll'\n",
       "        if (event.deltaY < 0) {\n",
       "            event.step = 1;\n",
       "        } else {\n",
       "            event.step = -1;\n",
       "        }\n",
       "        mouse_event_fn(event);\n",
       "    });\n",
       "\n",
       "    canvas_div.append(canvas);\n",
       "    canvas_div.append(rubberband);\n",
       "\n",
       "    this.rubberband = rubberband;\n",
       "    this.rubberband_canvas = rubberband[0];\n",
       "    this.rubberband_context = rubberband[0].getContext(\"2d\");\n",
       "    this.rubberband_context.strokeStyle = \"#000000\";\n",
       "\n",
       "    this._resize_canvas = function(width, height) {\n",
       "        // Keep the size of the canvas, canvas container, and rubber band\n",
       "        // canvas in synch.\n",
       "        canvas_div.css('width', width)\n",
       "        canvas_div.css('height', height)\n",
       "\n",
       "        canvas.attr('width', width * mpl.ratio);\n",
       "        canvas.attr('height', height * mpl.ratio);\n",
       "        canvas.attr('style', 'width: ' + width + 'px; height: ' + height + 'px;');\n",
       "\n",
       "        rubberband.attr('width', width);\n",
       "        rubberband.attr('height', height);\n",
       "    }\n",
       "\n",
       "    // Set the figure to an initial 600x600px, this will subsequently be updated\n",
       "    // upon first draw.\n",
       "    this._resize_canvas(600, 600);\n",
       "\n",
       "    // Disable right mouse context menu.\n",
       "    $(this.rubberband_canvas).bind(\"contextmenu\",function(e){\n",
       "        return false;\n",
       "    });\n",
       "\n",
       "    function set_focus () {\n",
       "        canvas.focus();\n",
       "        canvas_div.focus();\n",
       "    }\n",
       "\n",
       "    window.setTimeout(set_focus, 100);\n",
       "}\n",
       "\n",
       "mpl.figure.prototype._init_toolbar = function() {\n",
       "    var fig = this;\n",
       "\n",
       "    var nav_element = $('<div/>');\n",
       "    nav_element.attr('style', 'width: 100%');\n",
       "    this.root.append(nav_element);\n",
       "\n",
       "    // Define a callback function for later on.\n",
       "    function toolbar_event(event) {\n",
       "        return fig.toolbar_button_onclick(event['data']);\n",
       "    }\n",
       "    function toolbar_mouse_event(event) {\n",
       "        return fig.toolbar_button_onmouseover(event['data']);\n",
       "    }\n",
       "\n",
       "    for(var toolbar_ind in mpl.toolbar_items) {\n",
       "        var name = mpl.toolbar_items[toolbar_ind][0];\n",
       "        var tooltip = mpl.toolbar_items[toolbar_ind][1];\n",
       "        var image = mpl.toolbar_items[toolbar_ind][2];\n",
       "        var method_name = mpl.toolbar_items[toolbar_ind][3];\n",
       "\n",
       "        if (!name) {\n",
       "            // put a spacer in here.\n",
       "            continue;\n",
       "        }\n",
       "        var button = $('<button/>');\n",
       "        button.addClass('ui-button ui-widget ui-state-default ui-corner-all ' +\n",
       "                        'ui-button-icon-only');\n",
       "        button.attr('role', 'button');\n",
       "        button.attr('aria-disabled', 'false');\n",
       "        button.click(method_name, toolbar_event);\n",
       "        button.mouseover(tooltip, toolbar_mouse_event);\n",
       "\n",
       "        var icon_img = $('<span/>');\n",
       "        icon_img.addClass('ui-button-icon-primary ui-icon');\n",
       "        icon_img.addClass(image);\n",
       "        icon_img.addClass('ui-corner-all');\n",
       "\n",
       "        var tooltip_span = $('<span/>');\n",
       "        tooltip_span.addClass('ui-button-text');\n",
       "        tooltip_span.html(tooltip);\n",
       "\n",
       "        button.append(icon_img);\n",
       "        button.append(tooltip_span);\n",
       "\n",
       "        nav_element.append(button);\n",
       "    }\n",
       "\n",
       "    var fmt_picker_span = $('<span/>');\n",
       "\n",
       "    var fmt_picker = $('<select/>');\n",
       "    fmt_picker.addClass('mpl-toolbar-option ui-widget ui-widget-content');\n",
       "    fmt_picker_span.append(fmt_picker);\n",
       "    nav_element.append(fmt_picker_span);\n",
       "    this.format_dropdown = fmt_picker[0];\n",
       "\n",
       "    for (var ind in mpl.extensions) {\n",
       "        var fmt = mpl.extensions[ind];\n",
       "        var option = $(\n",
       "            '<option/>', {selected: fmt === mpl.default_extension}).html(fmt);\n",
       "        fmt_picker.append(option);\n",
       "    }\n",
       "\n",
       "    // Add hover states to the ui-buttons\n",
       "    $( \".ui-button\" ).hover(\n",
       "        function() { $(this).addClass(\"ui-state-hover\");},\n",
       "        function() { $(this).removeClass(\"ui-state-hover\");}\n",
       "    );\n",
       "\n",
       "    var status_bar = $('<span class=\"mpl-message\"/>');\n",
       "    nav_element.append(status_bar);\n",
       "    this.message = status_bar[0];\n",
       "}\n",
       "\n",
       "mpl.figure.prototype.request_resize = function(x_pixels, y_pixels) {\n",
       "    // Request matplotlib to resize the figure. Matplotlib will then trigger a resize in the client,\n",
       "    // which will in turn request a refresh of the image.\n",
       "    this.send_message('resize', {'width': x_pixels, 'height': y_pixels});\n",
       "}\n",
       "\n",
       "mpl.figure.prototype.send_message = function(type, properties) {\n",
       "    properties['type'] = type;\n",
       "    properties['figure_id'] = this.id;\n",
       "    this.ws.send(JSON.stringify(properties));\n",
       "}\n",
       "\n",
       "mpl.figure.prototype.send_draw_message = function() {\n",
       "    if (!this.waiting) {\n",
       "        this.waiting = true;\n",
       "        this.ws.send(JSON.stringify({type: \"draw\", figure_id: this.id}));\n",
       "    }\n",
       "}\n",
       "\n",
       "\n",
       "mpl.figure.prototype.handle_save = function(fig, msg) {\n",
       "    var format_dropdown = fig.format_dropdown;\n",
       "    var format = format_dropdown.options[format_dropdown.selectedIndex].value;\n",
       "    fig.ondownload(fig, format);\n",
       "}\n",
       "\n",
       "\n",
       "mpl.figure.prototype.handle_resize = function(fig, msg) {\n",
       "    var size = msg['size'];\n",
       "    if (size[0] != fig.canvas.width || size[1] != fig.canvas.height) {\n",
       "        fig._resize_canvas(size[0], size[1]);\n",
       "        fig.send_message(\"refresh\", {});\n",
       "    };\n",
       "}\n",
       "\n",
       "mpl.figure.prototype.handle_rubberband = function(fig, msg) {\n",
       "    var x0 = msg['x0'] / mpl.ratio;\n",
       "    var y0 = (fig.canvas.height - msg['y0']) / mpl.ratio;\n",
       "    var x1 = msg['x1'] / mpl.ratio;\n",
       "    var y1 = (fig.canvas.height - msg['y1']) / mpl.ratio;\n",
       "    x0 = Math.floor(x0) + 0.5;\n",
       "    y0 = Math.floor(y0) + 0.5;\n",
       "    x1 = Math.floor(x1) + 0.5;\n",
       "    y1 = Math.floor(y1) + 0.5;\n",
       "    var min_x = Math.min(x0, x1);\n",
       "    var min_y = Math.min(y0, y1);\n",
       "    var width = Math.abs(x1 - x0);\n",
       "    var height = Math.abs(y1 - y0);\n",
       "\n",
       "    fig.rubberband_context.clearRect(\n",
       "        0, 0, fig.canvas.width / mpl.ratio, fig.canvas.height / mpl.ratio);\n",
       "\n",
       "    fig.rubberband_context.strokeRect(min_x, min_y, width, height);\n",
       "}\n",
       "\n",
       "mpl.figure.prototype.handle_figure_label = function(fig, msg) {\n",
       "    // Updates the figure title.\n",
       "    fig.header.textContent = msg['label'];\n",
       "}\n",
       "\n",
       "mpl.figure.prototype.handle_cursor = function(fig, msg) {\n",
       "    var cursor = msg['cursor'];\n",
       "    switch(cursor)\n",
       "    {\n",
       "    case 0:\n",
       "        cursor = 'pointer';\n",
       "        break;\n",
       "    case 1:\n",
       "        cursor = 'default';\n",
       "        break;\n",
       "    case 2:\n",
       "        cursor = 'crosshair';\n",
       "        break;\n",
       "    case 3:\n",
       "        cursor = 'move';\n",
       "        break;\n",
       "    }\n",
       "    fig.rubberband_canvas.style.cursor = cursor;\n",
       "}\n",
       "\n",
       "mpl.figure.prototype.handle_message = function(fig, msg) {\n",
       "    fig.message.textContent = msg['message'];\n",
       "}\n",
       "\n",
       "mpl.figure.prototype.handle_draw = function(fig, msg) {\n",
       "    // Request the server to send over a new figure.\n",
       "    fig.send_draw_message();\n",
       "}\n",
       "\n",
       "mpl.figure.prototype.handle_image_mode = function(fig, msg) {\n",
       "    fig.image_mode = msg['mode'];\n",
       "}\n",
       "\n",
       "mpl.figure.prototype.updated_canvas_event = function() {\n",
       "    // Called whenever the canvas gets updated.\n",
       "    this.send_message(\"ack\", {});\n",
       "}\n",
       "\n",
       "// A function to construct a web socket function for onmessage handling.\n",
       "// Called in the figure constructor.\n",
       "mpl.figure.prototype._make_on_message_function = function(fig) {\n",
       "    return function socket_on_message(evt) {\n",
       "        if (evt.data instanceof Blob) {\n",
       "            /* FIXME: We get \"Resource interpreted as Image but\n",
       "             * transferred with MIME type text/plain:\" errors on\n",
       "             * Chrome.  But how to set the MIME type?  It doesn't seem\n",
       "             * to be part of the websocket stream */\n",
       "            evt.data.type = \"image/png\";\n",
       "\n",
       "            /* Free the memory for the previous frames */\n",
       "            if (fig.imageObj.src) {\n",
       "                (window.URL || window.webkitURL).revokeObjectURL(\n",
       "                    fig.imageObj.src);\n",
       "            }\n",
       "\n",
       "            fig.imageObj.src = (window.URL || window.webkitURL).createObjectURL(\n",
       "                evt.data);\n",
       "            fig.updated_canvas_event();\n",
       "            fig.waiting = false;\n",
       "            return;\n",
       "        }\n",
       "        else if (typeof evt.data === 'string' && evt.data.slice(0, 21) == \"data:image/png;base64\") {\n",
       "            fig.imageObj.src = evt.data;\n",
       "            fig.updated_canvas_event();\n",
       "            fig.waiting = false;\n",
       "            return;\n",
       "        }\n",
       "\n",
       "        var msg = JSON.parse(evt.data);\n",
       "        var msg_type = msg['type'];\n",
       "\n",
       "        // Call the  \"handle_{type}\" callback, which takes\n",
       "        // the figure and JSON message as its only arguments.\n",
       "        try {\n",
       "            var callback = fig[\"handle_\" + msg_type];\n",
       "        } catch (e) {\n",
       "            console.log(\"No handler for the '\" + msg_type + \"' message type: \", msg);\n",
       "            return;\n",
       "        }\n",
       "\n",
       "        if (callback) {\n",
       "            try {\n",
       "                // console.log(\"Handling '\" + msg_type + \"' message: \", msg);\n",
       "                callback(fig, msg);\n",
       "            } catch (e) {\n",
       "                console.log(\"Exception inside the 'handler_\" + msg_type + \"' callback:\", e, e.stack, msg);\n",
       "            }\n",
       "        }\n",
       "    };\n",
       "}\n",
       "\n",
       "// from http://stackoverflow.com/questions/1114465/getting-mouse-location-in-canvas\n",
       "mpl.findpos = function(e) {\n",
       "    //this section is from http://www.quirksmode.org/js/events_properties.html\n",
       "    var targ;\n",
       "    if (!e)\n",
       "        e = window.event;\n",
       "    if (e.target)\n",
       "        targ = e.target;\n",
       "    else if (e.srcElement)\n",
       "        targ = e.srcElement;\n",
       "    if (targ.nodeType == 3) // defeat Safari bug\n",
       "        targ = targ.parentNode;\n",
       "\n",
       "    // jQuery normalizes the pageX and pageY\n",
       "    // pageX,Y are the mouse positions relative to the document\n",
       "    // offset() returns the position of the element relative to the document\n",
       "    var x = e.pageX - $(targ).offset().left;\n",
       "    var y = e.pageY - $(targ).offset().top;\n",
       "\n",
       "    return {\"x\": x, \"y\": y};\n",
       "};\n",
       "\n",
       "/*\n",
       " * return a copy of an object with only non-object keys\n",
       " * we need this to avoid circular references\n",
       " * http://stackoverflow.com/a/24161582/3208463\n",
       " */\n",
       "function simpleKeys (original) {\n",
       "  return Object.keys(original).reduce(function (obj, key) {\n",
       "    if (typeof original[key] !== 'object')\n",
       "        obj[key] = original[key]\n",
       "    return obj;\n",
       "  }, {});\n",
       "}\n",
       "\n",
       "mpl.figure.prototype.mouse_event = function(event, name) {\n",
       "    var canvas_pos = mpl.findpos(event)\n",
       "\n",
       "    if (name === 'button_press')\n",
       "    {\n",
       "        this.canvas.focus();\n",
       "        this.canvas_div.focus();\n",
       "    }\n",
       "\n",
       "    var x = canvas_pos.x * mpl.ratio;\n",
       "    var y = canvas_pos.y * mpl.ratio;\n",
       "\n",
       "    this.send_message(name, {x: x, y: y, button: event.button,\n",
       "                             step: event.step,\n",
       "                             guiEvent: simpleKeys(event)});\n",
       "\n",
       "    /* This prevents the web browser from automatically changing to\n",
       "     * the text insertion cursor when the button is pressed.  We want\n",
       "     * to control all of the cursor setting manually through the\n",
       "     * 'cursor' event from matplotlib */\n",
       "    event.preventDefault();\n",
       "    return false;\n",
       "}\n",
       "\n",
       "mpl.figure.prototype._key_event_extra = function(event, name) {\n",
       "    // Handle any extra behaviour associated with a key event\n",
       "}\n",
       "\n",
       "mpl.figure.prototype.key_event = function(event, name) {\n",
       "\n",
       "    // Prevent repeat events\n",
       "    if (name == 'key_press')\n",
       "    {\n",
       "        if (event.which === this._key)\n",
       "            return;\n",
       "        else\n",
       "            this._key = event.which;\n",
       "    }\n",
       "    if (name == 'key_release')\n",
       "        this._key = null;\n",
       "\n",
       "    var value = '';\n",
       "    if (event.ctrlKey && event.which != 17)\n",
       "        value += \"ctrl+\";\n",
       "    if (event.altKey && event.which != 18)\n",
       "        value += \"alt+\";\n",
       "    if (event.shiftKey && event.which != 16)\n",
       "        value += \"shift+\";\n",
       "\n",
       "    value += 'k';\n",
       "    value += event.which.toString();\n",
       "\n",
       "    this._key_event_extra(event, name);\n",
       "\n",
       "    this.send_message(name, {key: value,\n",
       "                             guiEvent: simpleKeys(event)});\n",
       "    return false;\n",
       "}\n",
       "\n",
       "mpl.figure.prototype.toolbar_button_onclick = function(name) {\n",
       "    if (name == 'download') {\n",
       "        this.handle_save(this, null);\n",
       "    } else {\n",
       "        this.send_message(\"toolbar_button\", {name: name});\n",
       "    }\n",
       "};\n",
       "\n",
       "mpl.figure.prototype.toolbar_button_onmouseover = function(tooltip) {\n",
       "    this.message.textContent = tooltip;\n",
       "};\n",
       "mpl.toolbar_items = [[\"Home\", \"Reset original view\", \"fa fa-home icon-home\", \"home\"], [\"Back\", \"Back to previous view\", \"fa fa-arrow-left icon-arrow-left\", \"back\"], [\"Forward\", \"Forward to next view\", \"fa fa-arrow-right icon-arrow-right\", \"forward\"], [\"\", \"\", \"\", \"\"], [\"Pan\", \"Pan axes with left mouse, zoom with right\", \"fa fa-arrows icon-move\", \"pan\"], [\"Zoom\", \"Zoom to rectangle\", \"fa fa-square-o icon-check-empty\", \"zoom\"], [\"\", \"\", \"\", \"\"], [\"Download\", \"Download plot\", \"fa fa-floppy-o icon-save\", \"download\"]];\n",
       "\n",
       "mpl.extensions = [\"eps\", \"jpeg\", \"pdf\", \"png\", \"ps\", \"raw\", \"svg\", \"tif\"];\n",
       "\n",
       "mpl.default_extension = \"png\";var comm_websocket_adapter = function(comm) {\n",
       "    // Create a \"websocket\"-like object which calls the given IPython comm\n",
       "    // object with the appropriate methods. Currently this is a non binary\n",
       "    // socket, so there is still some room for performance tuning.\n",
       "    var ws = {};\n",
       "\n",
       "    ws.close = function() {\n",
       "        comm.close()\n",
       "    };\n",
       "    ws.send = function(m) {\n",
       "        //console.log('sending', m);\n",
       "        comm.send(m);\n",
       "    };\n",
       "    // Register the callback with on_msg.\n",
       "    comm.on_msg(function(msg) {\n",
       "        //console.log('receiving', msg['content']['data'], msg);\n",
       "        // Pass the mpl event to the overridden (by mpl) onmessage function.\n",
       "        ws.onmessage(msg['content']['data'])\n",
       "    });\n",
       "    return ws;\n",
       "}\n",
       "\n",
       "mpl.mpl_figure_comm = function(comm, msg) {\n",
       "    // This is the function which gets called when the mpl process\n",
       "    // starts-up an IPython Comm through the \"matplotlib\" channel.\n",
       "\n",
       "    var id = msg.content.data.id;\n",
       "    // Get hold of the div created by the display call when the Comm\n",
       "    // socket was opened in Python.\n",
       "    var element = $(\"#\" + id);\n",
       "    var ws_proxy = comm_websocket_adapter(comm)\n",
       "\n",
       "    function ondownload(figure, format) {\n",
       "        window.open(figure.imageObj.src);\n",
       "    }\n",
       "\n",
       "    var fig = new mpl.figure(id, ws_proxy,\n",
       "                           ondownload,\n",
       "                           element.get(0));\n",
       "\n",
       "    // Call onopen now - mpl needs it, as it is assuming we've passed it a real\n",
       "    // web socket which is closed, not our websocket->open comm proxy.\n",
       "    ws_proxy.onopen();\n",
       "\n",
       "    fig.parent_element = element.get(0);\n",
       "    fig.cell_info = mpl.find_output_cell(\"<div id='\" + id + \"'></div>\");\n",
       "    if (!fig.cell_info) {\n",
       "        console.error(\"Failed to find cell for figure\", id, fig);\n",
       "        return;\n",
       "    }\n",
       "\n",
       "    var output_index = fig.cell_info[2]\n",
       "    var cell = fig.cell_info[0];\n",
       "\n",
       "};\n",
       "\n",
       "mpl.figure.prototype.handle_close = function(fig, msg) {\n",
       "    var width = fig.canvas.width/mpl.ratio\n",
       "    fig.root.unbind('remove')\n",
       "\n",
       "    // Update the output cell to use the data from the current canvas.\n",
       "    fig.push_to_output();\n",
       "    var dataURL = fig.canvas.toDataURL();\n",
       "    // Re-enable the keyboard manager in IPython - without this line, in FF,\n",
       "    // the notebook keyboard shortcuts fail.\n",
       "    IPython.keyboard_manager.enable()\n",
       "    $(fig.parent_element).html('<img src=\"' + dataURL + '\" width=\"' + width + '\">');\n",
       "    fig.close_ws(fig, msg);\n",
       "}\n",
       "\n",
       "mpl.figure.prototype.close_ws = function(fig, msg){\n",
       "    fig.send_message('closing', msg);\n",
       "    // fig.ws.close()\n",
       "}\n",
       "\n",
       "mpl.figure.prototype.push_to_output = function(remove_interactive) {\n",
       "    // Turn the data on the canvas into data in the output cell.\n",
       "    var width = this.canvas.width/mpl.ratio\n",
       "    var dataURL = this.canvas.toDataURL();\n",
       "    this.cell_info[1]['text/html'] = '<img src=\"' + dataURL + '\" width=\"' + width + '\">';\n",
       "}\n",
       "\n",
       "mpl.figure.prototype.updated_canvas_event = function() {\n",
       "    // Tell IPython that the notebook contents must change.\n",
       "    IPython.notebook.set_dirty(true);\n",
       "    this.send_message(\"ack\", {});\n",
       "    var fig = this;\n",
       "    // Wait a second, then push the new image to the DOM so\n",
       "    // that it is saved nicely (might be nice to debounce this).\n",
       "    setTimeout(function () { fig.push_to_output() }, 1000);\n",
       "}\n",
       "\n",
       "mpl.figure.prototype._init_toolbar = function() {\n",
       "    var fig = this;\n",
       "\n",
       "    var nav_element = $('<div/>');\n",
       "    nav_element.attr('style', 'width: 100%');\n",
       "    this.root.append(nav_element);\n",
       "\n",
       "    // Define a callback function for later on.\n",
       "    function toolbar_event(event) {\n",
       "        return fig.toolbar_button_onclick(event['data']);\n",
       "    }\n",
       "    function toolbar_mouse_event(event) {\n",
       "        return fig.toolbar_button_onmouseover(event['data']);\n",
       "    }\n",
       "\n",
       "    for(var toolbar_ind in mpl.toolbar_items){\n",
       "        var name = mpl.toolbar_items[toolbar_ind][0];\n",
       "        var tooltip = mpl.toolbar_items[toolbar_ind][1];\n",
       "        var image = mpl.toolbar_items[toolbar_ind][2];\n",
       "        var method_name = mpl.toolbar_items[toolbar_ind][3];\n",
       "\n",
       "        if (!name) { continue; };\n",
       "\n",
       "        var button = $('<button class=\"btn btn-default\" href=\"#\" title=\"' + name + '\"><i class=\"fa ' + image + ' fa-lg\"></i></button>');\n",
       "        button.click(method_name, toolbar_event);\n",
       "        button.mouseover(tooltip, toolbar_mouse_event);\n",
       "        nav_element.append(button);\n",
       "    }\n",
       "\n",
       "    // Add the status bar.\n",
       "    var status_bar = $('<span class=\"mpl-message\" style=\"text-align:right; float: right;\"/>');\n",
       "    nav_element.append(status_bar);\n",
       "    this.message = status_bar[0];\n",
       "\n",
       "    // Add the close button to the window.\n",
       "    var buttongrp = $('<div class=\"btn-group inline pull-right\"></div>');\n",
       "    var button = $('<button class=\"btn btn-mini btn-primary\" href=\"#\" title=\"Stop Interaction\"><i class=\"fa fa-power-off icon-remove icon-large\"></i></button>');\n",
       "    button.click(function (evt) { fig.handle_close(fig, {}); } );\n",
       "    button.mouseover('Stop Interaction', toolbar_mouse_event);\n",
       "    buttongrp.append(button);\n",
       "    var titlebar = this.root.find($('.ui-dialog-titlebar'));\n",
       "    titlebar.prepend(buttongrp);\n",
       "}\n",
       "\n",
       "mpl.figure.prototype._root_extra_style = function(el){\n",
       "    var fig = this\n",
       "    el.on(\"remove\", function(){\n",
       "\tfig.close_ws(fig, {});\n",
       "    });\n",
       "}\n",
       "\n",
       "mpl.figure.prototype._canvas_extra_style = function(el){\n",
       "    // this is important to make the div 'focusable\n",
       "    el.attr('tabindex', 0)\n",
       "    // reach out to IPython and tell the keyboard manager to turn it's self\n",
       "    // off when our div gets focus\n",
       "\n",
       "    // location in version 3\n",
       "    if (IPython.notebook.keyboard_manager) {\n",
       "        IPython.notebook.keyboard_manager.register_events(el);\n",
       "    }\n",
       "    else {\n",
       "        // location in version 2\n",
       "        IPython.keyboard_manager.register_events(el);\n",
       "    }\n",
       "\n",
       "}\n",
       "\n",
       "mpl.figure.prototype._key_event_extra = function(event, name) {\n",
       "    var manager = IPython.notebook.keyboard_manager;\n",
       "    if (!manager)\n",
       "        manager = IPython.keyboard_manager;\n",
       "\n",
       "    // Check for shift+enter\n",
       "    if (event.shiftKey && event.which == 13) {\n",
       "        this.canvas_div.blur();\n",
       "        // select the cell after this one\n",
       "        var index = IPython.notebook.find_cell_index(this.cell_info[0]);\n",
       "        IPython.notebook.select(index + 1);\n",
       "    }\n",
       "}\n",
       "\n",
       "mpl.figure.prototype.handle_save = function(fig, msg) {\n",
       "    fig.ondownload(fig, null);\n",
       "}\n",
       "\n",
       "\n",
       "mpl.find_output_cell = function(html_output) {\n",
       "    // Return the cell and output element which can be found *uniquely* in the notebook.\n",
       "    // Note - this is a bit hacky, but it is done because the \"notebook_saving.Notebook\"\n",
       "    // IPython event is triggered only after the cells have been serialised, which for\n",
       "    // our purposes (turning an active figure into a static one), is too late.\n",
       "    var cells = IPython.notebook.get_cells();\n",
       "    var ncells = cells.length;\n",
       "    for (var i=0; i<ncells; i++) {\n",
       "        var cell = cells[i];\n",
       "        if (cell.cell_type === 'code'){\n",
       "            for (var j=0; j<cell.output_area.outputs.length; j++) {\n",
       "                var data = cell.output_area.outputs[j];\n",
       "                if (data.data) {\n",
       "                    // IPython >= 3 moved mimebundle to data attribute of output\n",
       "                    data = data.data;\n",
       "                }\n",
       "                if (data['text/html'] == html_output) {\n",
       "                    return [cell, data, j];\n",
       "                }\n",
       "            }\n",
       "        }\n",
       "    }\n",
       "}\n",
       "\n",
       "// Register the function which deals with the matplotlib target/channel.\n",
       "// The kernel may be null if the page has been refreshed.\n",
       "if (IPython.notebook.kernel != null) {\n",
       "    IPython.notebook.kernel.comm_manager.register_target('matplotlib', mpl.mpl_figure_comm);\n",
       "}\n"
      ],
      "text/plain": [
       "<IPython.core.display.Javascript object>"
      ]
     },
     "metadata": {},
     "output_type": "display_data"
    },
    {
     "data": {
      "text/html": [
       "<img src=\"data:image/png;base64,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\" width=\"640\">"
      ],
      "text/plain": [
       "<IPython.core.display.HTML object>"
      ]
     },
     "metadata": {},
     "output_type": "display_data"
    }
   ],
   "source": [
    "###### DATA VISUALIZATION ##################\n",
    "import matplotlib.pyplot as plt\n",
    "import matplotlib.image as mpimg\n",
    "%matplotlib notebook\n",
    "\n",
    "def visualize_images(index):\n",
    "    label = train_labels[index].argmax(axis=0) #only add .argmax if you one-hot encoded the labels\n",
    "    image = train_images[index]\n",
    "    plt.title('Sample: %d  Label: %d' % (index, label))\n",
    "    plt.imshow(image, cmap=plt.get_cmap('gray_r'))\n",
    "    plt.show()\n",
    "\n",
    "## you can adjust the index number below to visualize different images, or write a for loop\n",
    "visualize_images(121)"
   ]
  },
  {
   "cell_type": "markdown",
   "metadata": {},
   "source": [
    "# Defining the neural network "
   ]
  },
  {
   "cell_type": "code",
   "execution_count": 38,
   "metadata": {},
   "outputs": [],
   "source": [
    "model = Sequential()"
   ]
  },
  {
   "cell_type": "code",
   "execution_count": 39,
   "metadata": {},
   "outputs": [
    {
     "name": "stdout",
     "output_type": "stream",
     "text": [
      "WARNING:tensorflow:From /home/iggy/anaconda3/lib/python3.7/site-packages/tensorflow_core/python/ops/resource_variable_ops.py:1630: calling BaseResourceVariable.__init__ (from tensorflow.python.ops.resource_variable_ops) with constraint is deprecated and will be removed in a future version.\n",
      "Instructions for updating:\n",
      "If using Keras pass *_constraint arguments to layers.\n"
     ]
    }
   ],
   "source": [
    "model.add(Conv2D(32, kernel_size=(3, 3),\n",
    "                 activation='relu',\n",
    "                 input_shape=input_shape))"
   ]
  },
  {
   "cell_type": "code",
   "execution_count": 40,
   "metadata": {},
   "outputs": [],
   "source": [
    "model.add(Conv2D(64, (3, 3), activation='relu'))"
   ]
  },
  {
   "cell_type": "code",
   "execution_count": 41,
   "metadata": {},
   "outputs": [],
   "source": [
    "model.add(MaxPooling2D(pool_size=(2, 2)))"
   ]
  },
  {
   "cell_type": "code",
   "execution_count": 42,
   "metadata": {},
   "outputs": [],
   "source": [
    "model.add(Dropout(0.25))"
   ]
  },
  {
   "cell_type": "code",
   "execution_count": 43,
   "metadata": {},
   "outputs": [],
   "source": [
    "model.add(Flatten())"
   ]
  },
  {
   "cell_type": "code",
   "execution_count": 44,
   "metadata": {},
   "outputs": [],
   "source": [
    "model.add(Dense(128, activation='relu'))"
   ]
  },
  {
   "cell_type": "code",
   "execution_count": 45,
   "metadata": {},
   "outputs": [],
   "source": [
    "model.add(Dropout(0.5))"
   ]
  },
  {
   "cell_type": "code",
   "execution_count": 46,
   "metadata": {},
   "outputs": [],
   "source": [
    "model.add(Dense(64, activation='relu', kernel_regularizer=l2(0.01))) "
   ]
  },
  {
   "cell_type": "code",
   "execution_count": 47,
   "metadata": {},
   "outputs": [],
   "source": [
    "model.add(Dropout(0.5))"
   ]
  },
  {
   "cell_type": "code",
   "execution_count": 48,
   "metadata": {},
   "outputs": [],
   "source": [
    "model.add(Dense(2, activation='sigmoid')) "
   ]
  },
  {
   "cell_type": "code",
   "execution_count": 49,
   "metadata": {},
   "outputs": [
    {
     "name": "stdout",
     "output_type": "stream",
     "text": [
      "Model: \"sequential\"\n",
      "_________________________________________________________________\n",
      "Layer (type)                 Output Shape              Param #   \n",
      "=================================================================\n",
      "conv2d (Conv2D)              (None, 46, 46, 32)        896       \n",
      "_________________________________________________________________\n",
      "conv2d_1 (Conv2D)            (None, 44, 44, 64)        18496     \n",
      "_________________________________________________________________\n",
      "max_pooling2d (MaxPooling2D) (None, 22, 22, 64)        0         \n",
      "_________________________________________________________________\n",
      "dropout (Dropout)            (None, 22, 22, 64)        0         \n",
      "_________________________________________________________________\n",
      "flatten (Flatten)            (None, 30976)             0         \n",
      "_________________________________________________________________\n",
      "dense (Dense)                (None, 128)               3965056   \n",
      "_________________________________________________________________\n",
      "dropout_1 (Dropout)          (None, 128)               0         \n",
      "_________________________________________________________________\n",
      "dense_1 (Dense)              (None, 64)                8256      \n",
      "_________________________________________________________________\n",
      "dropout_2 (Dropout)          (None, 64)                0         \n",
      "_________________________________________________________________\n",
      "dense_2 (Dense)              (None, 2)                 130       \n",
      "=================================================================\n",
      "Total params: 3,992,834\n",
      "Trainable params: 3,992,834\n",
      "Non-trainable params: 0\n",
      "_________________________________________________________________\n"
     ]
    }
   ],
   "source": [
    "model.summary()"
   ]
  },
  {
   "cell_type": "code",
   "execution_count": 50,
   "metadata": {},
   "outputs": [
    {
     "name": "stdout",
     "output_type": "stream",
     "text": [
      "WARNING:tensorflow:From /home/iggy/anaconda3/lib/python3.7/site-packages/tensorflow_core/python/ops/nn_impl.py:183: where (from tensorflow.python.ops.array_ops) is deprecated and will be removed in a future version.\n",
      "Instructions for updating:\n",
      "Use tf.where in 2.0, which has the same broadcast rule as np.where\n"
     ]
    }
   ],
   "source": [
    "model.compile(loss='binary_crossentropy',\n",
    "              optimizer='adam',\n",
    "              metrics=['accuracy'])"
   ]
  },
  {
   "cell_type": "code",
   "execution_count": 51,
   "metadata": {},
   "outputs": [
    {
     "name": "stdout",
     "output_type": "stream",
     "text": [
      "Train on 1046 samples, validate on 262 samples\n",
      "Epoch 1/10\n",
      "1046/1046 - 4s - loss: 1.3109 - acc: 0.5143 - val_loss: 1.0775 - val_acc: 0.5153\n",
      "Epoch 2/10\n",
      "1046/1046 - 4s - loss: 0.9628 - acc: 0.5607 - val_loss: 0.8579 - val_acc: 0.6183\n",
      "Epoch 3/10\n",
      "1046/1046 - 4s - loss: 0.8083 - acc: 0.5903 - val_loss: 0.7486 - val_acc: 0.6031\n",
      "Epoch 4/10\n",
      "1046/1046 - 4s - loss: 0.7369 - acc: 0.6267 - val_loss: 0.6814 - val_acc: 0.7481\n",
      "Epoch 5/10\n",
      "1046/1046 - 4s - loss: 0.6436 - acc: 0.7089 - val_loss: 0.5780 - val_acc: 0.7271\n",
      "Epoch 6/10\n",
      "1046/1046 - 4s - loss: 0.5515 - acc: 0.7586 - val_loss: 0.4088 - val_acc: 0.8454\n",
      "Epoch 7/10\n",
      "1046/1046 - 4s - loss: 0.4359 - acc: 0.8265 - val_loss: 0.3358 - val_acc: 0.8817\n",
      "Epoch 8/10\n",
      "1046/1046 - 4s - loss: 0.3604 - acc: 0.8695 - val_loss: 0.2179 - val_acc: 0.9427\n",
      "Epoch 9/10\n",
      "1046/1046 - 4s - loss: 0.2666 - acc: 0.9254 - val_loss: 0.1665 - val_acc: 0.9504\n",
      "Epoch 10/10\n",
      "1046/1046 - 4s - loss: 0.2139 - acc: 0.9245 - val_loss: 0.1357 - val_acc: 0.9809\n"
     ]
    }
   ],
   "source": [
    "history = model.fit(train_images, train_labels,\n",
    "                    batch_size=16,\n",
    "                    epochs=10,\n",
    "                    verbose=2,\n",
    "                    validation_data=(val_images, val_labels))"
   ]
  },
  {
   "cell_type": "code",
   "execution_count": 52,
   "metadata": {},
   "outputs": [
    {
     "name": "stdout",
     "output_type": "stream",
     "text": [
      "Test loss: 0.13568055697979817\n",
      "Test accuracy: 0.980916\n"
     ]
    }
   ],
   "source": [
    "score = model.evaluate(val_images, val_labels, verbose=0)\n",
    "print('Test loss:', score[0])\n",
    "print('Test accuracy:', score[1])"
   ]
  },
  {
   "cell_type": "markdown",
   "metadata": {},
   "source": [
    "# Predictions "
   ]
  },
  {
   "cell_type": "code",
   "execution_count": 53,
   "metadata": {},
   "outputs": [],
   "source": [
    "#pred = model.predict(test_images, verbose=2)"
   ]
  },
  {
   "cell_type": "code",
   "execution_count": 54,
   "metadata": {},
   "outputs": [],
   "source": [
    "#print(np.round(pred[:20], 3))"
   ]
  },
  {
   "cell_type": "code",
   "execution_count": 55,
   "metadata": {},
   "outputs": [],
   "source": [
    "#testing with custom images. \n",
    "test2 = []\n",
    "\n",
    "img1 = cv2.resize(cv2.imread('/home/iggy/Pictures/lerato1.png'), (img_size, img_size))\n",
    "img2 = cv2.resize(cv2.imread('/home/iggy/Pictures/lerato2.png'), (img_size, img_size))\n",
    "\n",
    "test2.append(np.array([img1], dtype = 'float32'))\n",
    "\n",
    "test2.append(np.array([img2], dtype = 'float32'))"
   ]
  },
  {
   "cell_type": "code",
   "execution_count": 56,
   "metadata": {},
   "outputs": [],
   "source": [
    "test2 = np.array(test2).reshape(2,48,48,3)"
   ]
  },
  {
   "cell_type": "code",
   "execution_count": 57,
   "metadata": {},
   "outputs": [],
   "source": [
    "test2 /= 255"
   ]
  },
  {
   "cell_type": "code",
   "execution_count": null,
   "metadata": {},
   "outputs": [],
   "source": [
    "pred2 = model.predict(test2, verbose=2)"
   ]
  }
 ],
 "metadata": {
  "kernelspec": {
   "display_name": "Python 3",
   "language": "python",
   "name": "python3"
  },
  "language_info": {
   "codemirror_mode": {
    "name": "ipython",
    "version": 3
   },
   "file_extension": ".py",
   "mimetype": "text/x-python",
   "name": "python",
   "nbconvert_exporter": "python",
   "pygments_lexer": "ipython3",
   "version": "3.7.3"
  }
 },
 "nbformat": 4,
 "nbformat_minor": 4
}
